{
 "cells": [
  {
   "cell_type": "code",
   "execution_count": 1,
   "metadata": {},
   "outputs": [],
   "source": [
    "import numpy as np\n",
    "import matplotlib.pyplot as plt\n",
    "from wifi_matrix import generate_A_higher_order, generate_A\n",
    "import matplotlib.pyplot as plt\n",
    "from scipy.sparse.linalg import splu"
   ]
  },
  {
   "cell_type": "code",
   "execution_count": 2,
   "metadata": {},
   "outputs": [],
   "source": [
    "wavelength = 0.06  # Wavelength of WiFi in meters: 0.12 for 2.5GHz; 0.06 for 5GHz.\n",
    "k = 2 * np.pi / wavelength"
   ]
  },
  {
   "cell_type": "code",
   "execution_count": 3,
   "metadata": {},
   "outputs": [],
   "source": [
    "X = np.linspace(-1, 1, 1000, dtype=np.complex64)\n",
    "Y = np.linspace(-2, 2, 1000, dtype=np.complex64)\n",
    "x, y = np.meshgrid(X, Y)\n",
    "u = (1-np.exp(1-x**2))*(1-np.exp(4-y**2)) # Known solution\n",
    "f = k**2 * u + 2*x*(1-np.exp(1-y**2))*np.exp(1-x**2) + 2*y*(1-np.exp(1-x**2))*np.exp(1-y**2)# Analytic source"
   ]
  },
  {
   "cell_type": "code",
   "execution_count": 4,
   "metadata": {},
   "outputs": [],
   "source": [
    "floor = np.ones_like(f)"
   ]
  },
  {
   "cell_type": "code",
   "execution_count": 5,
   "metadata": {},
   "outputs": [
    {
     "ename": "KeyboardInterrupt",
     "evalue": "",
     "output_type": "error",
     "traceback": [
      "\u001b[1;31m---------------------------------------------------------------------------\u001b[0m",
      "\u001b[1;31mKeyboardInterrupt\u001b[0m                         Traceback (most recent call last)",
      "\u001b[1;32m<ipython-input-5-e34eae1fb1ac>\u001b[0m in \u001b[0;36m<module>\u001b[1;34m\u001b[0m\n\u001b[0;32m      1\u001b[0m \u001b[0mA\u001b[0m \u001b[1;33m=\u001b[0m \u001b[0mgenerate_A_higher_order\u001b[0m\u001b[1;33m(\u001b[0m\u001b[0mfloor\u001b[0m\u001b[1;33m,\u001b[0m\u001b[0mk\u001b[0m\u001b[1;33m)\u001b[0m\u001b[1;33m\u001b[0m\u001b[1;33m\u001b[0m\u001b[0m\n\u001b[1;32m----> 2\u001b[1;33m \u001b[0mB\u001b[0m \u001b[1;33m=\u001b[0m \u001b[0mgenerate_A\u001b[0m\u001b[1;33m(\u001b[0m\u001b[0mfloor\u001b[0m\u001b[1;33m,\u001b[0m \u001b[0mk\u001b[0m\u001b[1;33m)\u001b[0m\u001b[1;33m\u001b[0m\u001b[1;33m\u001b[0m\u001b[0m\n\u001b[0m\u001b[0;32m      3\u001b[0m \u001b[0mlu_A\u001b[0m \u001b[1;33m=\u001b[0m \u001b[0msplu\u001b[0m\u001b[1;33m(\u001b[0m\u001b[0mA\u001b[0m\u001b[1;33m)\u001b[0m\u001b[1;33m\u001b[0m\u001b[1;33m\u001b[0m\u001b[0m\n\u001b[0;32m      4\u001b[0m \u001b[0mlu_B\u001b[0m \u001b[1;33m=\u001b[0m \u001b[0msplu\u001b[0m\u001b[1;33m(\u001b[0m\u001b[0mB\u001b[0m\u001b[1;33m)\u001b[0m\u001b[1;33m\u001b[0m\u001b[1;33m\u001b[0m\u001b[0m\n\u001b[0;32m      5\u001b[0m \u001b[0mu_A\u001b[0m \u001b[1;33m=\u001b[0m \u001b[0mlu_A\u001b[0m\u001b[1;33m.\u001b[0m\u001b[0msolve\u001b[0m\u001b[1;33m(\u001b[0m\u001b[0mf\u001b[0m\u001b[1;33m.\u001b[0m\u001b[0mflatten\u001b[0m\u001b[1;33m(\u001b[0m\u001b[1;33m)\u001b[0m\u001b[1;33m)\u001b[0m\u001b[1;33m\u001b[0m\u001b[1;33m\u001b[0m\u001b[0m\n",
      "\u001b[1;32m~\\Projects\\EiT\\wifi_matrix.py\u001b[0m in \u001b[0;36mgenerate_A\u001b[1;34m(floor, k, dx, dy)\u001b[0m\n\u001b[0;32m     79\u001b[0m     \u001b[1;32mfor\u001b[0m \u001b[0mi\u001b[0m \u001b[1;32min\u001b[0m \u001b[0mrange\u001b[0m\u001b[1;33m(\u001b[0m\u001b[0mnx\u001b[0m\u001b[1;33m)\u001b[0m\u001b[1;33m:\u001b[0m\u001b[1;33m\u001b[0m\u001b[1;33m\u001b[0m\u001b[0m\n\u001b[0;32m     80\u001b[0m         \u001b[1;32mfor\u001b[0m \u001b[0mj\u001b[0m \u001b[1;32min\u001b[0m \u001b[0mrange\u001b[0m\u001b[1;33m(\u001b[0m\u001b[0mny\u001b[0m\u001b[1;33m)\u001b[0m\u001b[1;33m:\u001b[0m\u001b[1;33m\u001b[0m\u001b[1;33m\u001b[0m\u001b[0m\n\u001b[1;32m---> 81\u001b[1;33m             \u001b[0mdiag\u001b[0m\u001b[1;33m[\u001b[0m\u001b[0mny\u001b[0m \u001b[1;33m*\u001b[0m \u001b[0mi\u001b[0m \u001b[1;33m+\u001b[0m \u001b[0mj\u001b[0m\u001b[1;33m]\u001b[0m \u001b[1;33m=\u001b[0m \u001b[1;33m-\u001b[0m\u001b[1;36m2\u001b[0m \u001b[1;33m/\u001b[0m \u001b[0mdx\u001b[0m \u001b[1;33m**\u001b[0m \u001b[1;36m2\u001b[0m \u001b[1;33m-\u001b[0m \u001b[1;36m2\u001b[0m \u001b[1;33m/\u001b[0m \u001b[0mdy\u001b[0m \u001b[1;33m**\u001b[0m \u001b[1;36m2\u001b[0m \u001b[1;33m+\u001b[0m \u001b[0mnp\u001b[0m\u001b[1;33m.\u001b[0m\u001b[0msquare\u001b[0m\u001b[1;33m(\u001b[0m\u001b[0mk\u001b[0m\u001b[1;33m)\u001b[0m \u001b[1;33m/\u001b[0m \u001b[0mfloor\u001b[0m\u001b[1;33m[\u001b[0m\u001b[0mi\u001b[0m\u001b[1;33m,\u001b[0m \u001b[0mj\u001b[0m\u001b[1;33m]\u001b[0m\u001b[1;33m\u001b[0m\u001b[1;33m\u001b[0m\u001b[0m\n\u001b[0m\u001b[0;32m     82\u001b[0m \u001b[1;33m\u001b[0m\u001b[0m\n\u001b[0;32m     83\u001b[0m     A = scipy.sparse.diags(\n",
      "\u001b[1;31mKeyboardInterrupt\u001b[0m: "
     ]
    }
   ],
   "source": [
    "A = generate_A_higher_order(floor,k)\n",
    "B = generate_A(floor, k)\n",
    "lu_A = splu(A)\n",
    "lu_B = splu(B)\n",
    "u_A = lu_A.solve(f.flatten())\n",
    "u_B = lu_B.solve(f.flatten())"
   ]
  },
  {
   "cell_type": "code",
   "execution_count": null,
   "metadata": {},
   "outputs": [],
   "source": [
    "fig = plt.figure(figsize= (10,10),tight_layout=True)\n",
    "ax=plt.subplot(212)\n",
    "plt.imshow(np.abs(u))\n",
    "plt.title(r\"$(1-e^{1-x^2})(1-e^{1-y^2})$\", size= 20)\n",
    "plt.xticks([])\n",
    "plt.yticks([])\n",
    "\n",
    "plt.subplot(221)\n",
    "plt.imshow(np.real(u_A.reshape(f.shape)))\n",
    "plt.title(r\"$\\mathcal{O}(h^4)$\", size= 20)\n",
    "plt.xticks([])\n",
    "plt.yticks([])\n",
    "\n",
    "plt.subplot(222)\n",
    "plt.imshow(np.real(u_B.reshape(f.shape)))\n",
    "plt.title(r\"$\\mathcal{O}(h^2)$\", size= 20)\n",
    "plt.xticks([])\n",
    "plt.yticks([])"
   ]
  },
  {
   "cell_type": "code",
   "execution_count": null,
   "metadata": {},
   "outputs": [],
   "source": [
    "fig = plt.figure(figsize= (20,10),tight_layout=True)\n",
    "\n",
    "plt.subplot(121)\n",
    "plt.imshow(np.abs(u-u_A.reshape(u.shape)))\n",
    "plt.xticks([])\n",
    "plt.yticks([])\n",
    "plt.title(fr\"$\\max |\\bar u - u| = ${np.max(np.abs(u-u_A.reshape(u.shape))):.4f}\", size = 25) \n",
    "# plt.colorbar()\n",
    "print(np.max(np.abs(u-u_A.reshape(u.shape))))\n",
    "\n",
    "plt.subplot(122)\n",
    "plt.imshow(np.abs(u-u_B.reshape(u.shape)))\n",
    "plt.xticks([])\n",
    "plt.yticks([])\n",
    "plt.title(fr\"$\\max |\\bar u - u| = ${np.max(np.abs(u-u_B.reshape(u.shape))):.4f}\", size = 25) \n",
    "# plt.colorbar()\n",
    "print(np.max(np.abs(u-u_B.reshape(u.shape))))"
   ]
  },
  {
   "cell_type": "code",
   "execution_count": 133,
   "metadata": {},
   "outputs": [],
   "source": [
    "# plt.figure(figsize=(20,10),tight_layout=True)\n",
    "\n",
    "# plt.subplot(121)\n",
    "# plt.imshow(np.log(np.abs(B.toarray())).reshape((25,25)), cmap='jet')\n",
    "# plt.colorbar()\n",
    "# plt.title(r\"$\\mathcal{O}(h^2)$\", size= 20)\n",
    "\n",
    "# plt.subplot(122)\n",
    "# plt.imshow(np.log(np.abs(A.toarray())).reshape((25,25)), cmap='jet')\n",
    "# plt.colorbar()\n",
    "# plt.title(r\"$\\mathcal{O}(h^4)$\", size= 20)"
   ]
  }
 ],
 "metadata": {
  "kernelspec": {
   "display_name": "Python 3",
   "language": "python",
   "name": "python3"
  },
  "language_info": {
   "codemirror_mode": {
    "name": "ipython",
    "version": 3
   },
   "file_extension": ".py",
   "mimetype": "text/x-python",
   "name": "python",
   "nbconvert_exporter": "python",
   "pygments_lexer": "ipython3",
   "version": "3.7.6"
  }
 },
 "nbformat": 4,
 "nbformat_minor": 4
}
