{
 "cells": [
  {
   "cell_type": "markdown",
   "metadata": {},
   "source": [
    "# Master Routine tester\n",
    "---"
   ]
  },
  {
   "cell_type": "code",
   "execution_count": 1,
   "metadata": {},
   "outputs": [],
   "source": [
    "%load_ext autoreload\n",
    "%autoreload 2"
   ]
  },
  {
   "cell_type": "code",
   "execution_count": 2,
   "metadata": {},
   "outputs": [],
   "source": [
    "import matplotlib.pyplot as plt\n",
    "import numpy as np\n",
    "from time import time\n",
    "from wifi_matrix import basic_lu\n",
    "from find_optimal import scores_from_point_list\n",
    "from gaussianGrid import gauss_grid\n",
    "\n",
    "from numba import jit\n"
   ]
  },
  {
   "cell_type": "code",
   "execution_count": null,
   "metadata": {},
   "outputs": [],
   "source": [
    "%%time\n",
    "wavelength = 0.06  # Wavelength of WiFi in meters: 0.12 for 2.5GHz; 0.06 for 5GHz.\n",
    "k = 2 * np.pi / wavelength\n",
    "n_air = 1\n",
    "n_concrete = 2.16 - 0.021j  # Should depend on wavenumber.\n",
    "\n",
    "img = parse_image(\"testrom.png\", n_air, n_concrete)\n",
    "img = pad_image(img)\n",
    "\n",
    "if not os.path.exists(\"testrom2.npz\"):\n",
    "    print(\"Generating new A. \")\n",
    "    A = generate_A(img, k)\n",
    "    save_npz(\"plan-1k-A\", A)\n",
    "else:\n",
    "    print(\"Loading A.\")\n",
    "    A = load_npz(\"testrom2.npz\")\n",
    "\n",
    "lu = scipy.sparse.linalg.splu(A)"
   ]
  }
 ],
 "metadata": {
  "kernelspec": {
   "display_name": "Python 3",
   "language": "python",
   "name": "python3"
  },
  "language_info": {
   "codemirror_mode": {
    "name": "ipython",
    "version": 3
   },
   "file_extension": ".py",
   "mimetype": "text/x-python",
   "name": "python",
   "nbconvert_exporter": "python",
   "pygments_lexer": "ipython3",
   "version": "3.7.6"
  }
 },
 "nbformat": 4,
 "nbformat_minor": 4
}
