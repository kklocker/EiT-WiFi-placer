{
 "cells": [
  {
   "cell_type": "markdown",
   "metadata": {},
   "source": [
    "# Eksempel\n",
    "---"
   ]
  },
  {
   "cell_type": "markdown",
   "metadata": {},
   "source": [
    "Notebook med eksempel av appen."
   ]
  },
  {
   "cell_type": "code",
   "execution_count": 13,
   "metadata": {},
   "outputs": [
    {
     "data": {
      "text/plain": [
       "(<matplotlib.image.AxesImage at 0x20850e9efc8>, (1000, 1000, 4))"
      ]
     },
     "execution_count": 13,
     "metadata": {},
     "output_type": "execute_result"
    },
    {
     "data": {
      "image/png": "[encoded data removed]",
      "text/plain": [
       "<Figure size 432x288 with 1 Axes>"
      ]
     },
     "metadata": {
      "needs_background": "light"
     },
     "output_type": "display_data"
    }
   ],
   "source": [
    "from web.RouterPlacer import *\n",
    "# img = plt.imread(\"floorplans_processed/00_2.png\", \"gray\")\n",
    "img = plt.imread(\"floorplans_processed/01.png\", \"gray\")\n",
    "# img = plt.imread(\"testrom4.png\", \"gray\")\n",
    "plt.imshow(img), img.shape"
   ]
  },
  {
   "cell_type": "markdown",
   "metadata": {},
   "source": [
    "Nå lager vi en instanse av routerPlacer, og henter all nødvendig informasjon."
   ]
  },
  {
   "cell_type": "code",
   "execution_count": null,
   "metadata": {},
   "outputs": [
    {
     "name": "stdout",
     "output_type": "stream",
     "text": [
      "Optimal coordinates not found. Getting new results\n",
      "LU-decomposition not found. Getting new.\n",
      "Setting up matrix.\n",
      "Setting up matrix took 14.68s\n",
      "Fetching LU-decomposition.\n",
      "LU-decomposition took 240.31s\n",
      "Got gauss-distributed points. Now checking 361 points\n"
     ]
    }
   ],
   "source": [
    "routerPlacer = RouterPlacer(img)\n",
    "routerPlacer.get_optimal_solution()"
   ]
  },
  {
   "cell_type": "code",
   "execution_count": null,
   "metadata": {},
   "outputs": [],
   "source": [
    "routerPlacer.img.shape"
   ]
  },
  {
   "cell_type": "code",
   "execution_count": null,
   "metadata": {},
   "outputs": [],
   "source": [
    "routerPlacer.score_plot()\n",
    "routerPlacer.solution_plot()"
   ]
  },
  {
   "cell_type": "markdown",
   "metadata": {},
   "source": [
    "\n",
    "***"
   ]
  },
  {
   "cell_type": "markdown",
   "metadata": {},
   "source": [
    "## Sammenlikning med plassering i midten"
   ]
  },
  {
   "cell_type": "code",
   "execution_count": null,
   "metadata": {},
   "outputs": [],
   "source": [
    "from wifi_matrix import solve_single_system, plot_single_solution\n",
    "from score import step_score\n",
    "from find_optimal import convolve_solution"
   ]
  },
  {
   "cell_type": "code",
   "execution_count": null,
   "metadata": {},
   "outputs": [],
   "source": [
    "x0, y0 = routerPlacer.img.shape\n",
    "x0 =(x0-1)//2\n",
    "y0 = (y0-1)//2"
   ]
  },
  {
   "cell_type": "code",
   "execution_count": null,
   "metadata": {},
   "outputs": [],
   "source": [
    "middle_solution = solve_single_system(routerPlacer.lu, x0, y0, routerPlacer.img.shape)\n",
    "middle_solution = convolve_solution(middle_solution, routerPlacer.img.shape)\n",
    "middle_score = step_score(middle_solution, routerPlacer.img)"
   ]
  },
  {
   "cell_type": "code",
   "execution_count": null,
   "metadata": {},
   "outputs": [],
   "source": [
    "middle_score, routerPlacer.optimal_score"
   ]
  },
  {
   "cell_type": "code",
   "execution_count": null,
   "metadata": {},
   "outputs": [],
   "source": [
    "plot_single_solution(middle_solution, x0, y0, routerPlacer.img)"
   ]
  }
 ],
 "metadata": {
  "kernelspec": {
   "display_name": "Python 3",
   "language": "python",
   "name": "python3"
  },
  "language_info": {
   "codemirror_mode": {
    "name": "ipython",
    "version": 3
   },
   "file_extension": ".py",
   "mimetype": "text/x-python",
   "name": "python",
   "nbconvert_exporter": "python",
   "pygments_lexer": "ipython3",
   "version": "3.7.6"
  }
 },
 "nbformat": 4,
 "nbformat_minor": 4
}
