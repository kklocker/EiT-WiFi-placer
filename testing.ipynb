{
 "cells": [
  {
   "cell_type": "code",
   "execution_count": 1,
   "metadata": {},
   "outputs": [],
   "source": [
    "%load_ext autoreload\n",
    "%autoreload\n",
    "import cv2\n",
    "import matplotlib.pyplot as plt\n",
    "path = \"testrom.png\""
   ]
  },
  {
   "cell_type": "code",
   "execution_count": 2,
   "metadata": {},
   "outputs": [],
   "source": [
    "pic = cv2.imread(path, 0)"
   ]
  },
  {
   "cell_type": "code",
   "execution_count": 3,
   "metadata": {},
   "outputs": [],
   "source": [
    "pic = (pic - 255) % 255"
   ]
  },
  {
   "cell_type": "code",
   "execution_count": 4,
   "metadata": {},
   "outputs": [
    {
     "data": {
      "text/plain": [
       "<matplotlib.image.AxesImage at 0x186f1eb6548>"
      ]
     },
     "execution_count": 4,
     "metadata": {},
     "output_type": "execute_result"
    },
    {
     "data": {
      "image/png": "[encoded data removed]",
      "text/plain": [
       "<Figure size 432x288 with 1 Axes>"
      ]
     },
     "metadata": {
      "needs_background": "light"
     },
     "output_type": "display_data"
    }
   ],
   "source": [
    "plt.imshow(pic)"
   ]
  },
  {
   "cell_type": "code",
   "execution_count": 5,
   "metadata": {},
   "outputs": [],
   "source": [
    "import numpy as np"
   ]
  },
  {
   "cell_type": "code",
   "execution_count": 6,
   "metadata": {},
   "outputs": [],
   "source": [
    "A = np.array([[0, 1,0], [1, 4,1],[0,1,0]])\n",
    "b = np.array([[0, 0], [0, 0]])"
   ]
  },
  {
   "cell_type": "code",
   "execution_count": 7,
   "metadata": {},
   "outputs": [],
   "source": [
    "import scipy"
   ]
  },
  {
   "cell_type": "code",
   "execution_count": 8,
   "metadata": {},
   "outputs": [],
   "source": [
    "arr = np.ones((1000,1000))"
   ]
  },
  {
   "cell_type": "code",
   "execution_count": 9,
   "metadata": {},
   "outputs": [],
   "source": [
    "lap = [[0.25, 0.5, 0.25],[0.5,-3,0.5],[0.25,0.5,0.25]]"
   ]
  },
  {
   "cell_type": "code",
   "execution_count": 10,
   "metadata": {},
   "outputs": [],
   "source": [
    "from scipy import signal"
   ]
  },
  {
   "cell_type": "code",
   "execution_count": 11,
   "metadata": {},
   "outputs": [],
   "source": [
    "test_conv = signal.convolve(arr, lap)"
   ]
  },
  {
   "cell_type": "code",
   "execution_count": 12,
   "metadata": {},
   "outputs": [
    {
     "data": {
      "text/plain": [
       "(1002, 1002)"
      ]
     },
     "execution_count": 12,
     "metadata": {},
     "output_type": "execute_result"
    }
   ],
   "source": [
    "test_conv.shape"
   ]
  },
  {
   "cell_type": "code",
   "execution_count": 13,
   "metadata": {},
   "outputs": [],
   "source": [
    "B = np.ones_like(test_conv)"
   ]
  },
  {
   "cell_type": "code",
   "execution_count": 14,
   "metadata": {},
   "outputs": [],
   "source": [
    "B[623:633, 193:203] = 100"
   ]
  },
  {
   "cell_type": "code",
   "execution_count": 15,
   "metadata": {},
   "outputs": [],
   "source": [
    "sol = np.linalg.solve(test_conv, B)"
   ]
  },
  {
   "cell_type": "code",
   "execution_count": 16,
   "metadata": {},
   "outputs": [
    {
     "data": {
      "text/plain": [
       "<matplotlib.colorbar.Colorbar at 0x186f54e6f48>"
      ]
     },
     "execution_count": 16,
     "metadata": {},
     "output_type": "execute_result"
    },
    {
     "data": {
      "image/png": "[encoded data removed]",
      "text/plain": [
       "<Figure size 432x288 with 2 Axes>"
      ]
     },
     "metadata": {
      "needs_background": "light"
     },
     "output_type": "display_data"
    }
   ],
   "source": [
    "plt.imshow(B)\n",
    "plt.colorbar()"
   ]
  },
  {
   "cell_type": "code",
   "execution_count": 17,
   "metadata": {},
   "outputs": [],
   "source": [
    "# fig = plt.figure(figsize=(16, 16))\n",
    "# p = plt.imshow(test_conv)"
   ]
  },
  {
   "cell_type": "code",
   "execution_count": 18,
   "metadata": {},
   "outputs": [
    {
     "data": {
      "text/plain": [
       "<matplotlib.image.AxesImage at 0x186f557efc8>"
      ]
     },
     "execution_count": 18,
     "metadata": {},
     "output_type": "execute_result"
    },
    {
     "data": {
      "image/png": "[encoded data removed]",
      "text/plain": [
       "<Figure size 432x288 with 1 Axes>"
      ]
     },
     "metadata": {
      "needs_background": "light"
     },
     "output_type": "display_data"
    }
   ],
   "source": [
    "plt.imshow(np.abs(sol))"
   ]
  },
  {
   "cell_type": "code",
   "execution_count": 19,
   "metadata": {},
   "outputs": [
    {
     "data": {
      "text/plain": [
       "array([[2.16063850e+13, 2.16063850e+13, 2.16063850e+13, ...,\n",
       "        2.16063850e+13, 2.16063850e+13, 2.16063850e+13],\n",
       "       [1.62837043e+13, 1.62837043e+13, 1.62837043e+13, ...,\n",
       "        1.62837043e+13, 1.62837043e+13, 1.62837043e+13],\n",
       "       [1.23689508e+14, 1.23689508e+14, 1.23689508e+14, ...,\n",
       "        1.23689508e+14, 1.23689508e+14, 1.23689508e+14],\n",
       "       ...,\n",
       "       [6.10596825e+13, 6.10596825e+13, 6.10596825e+13, ...,\n",
       "        6.10596825e+13, 6.10596825e+13, 6.10596825e+13],\n",
       "       [7.03209094e+12, 7.03209094e+12, 7.03209094e+12, ...,\n",
       "        7.03209094e+12, 7.03209094e+12, 7.03209094e+12],\n",
       "       [1.70941027e+12, 1.70941027e+12, 1.70941027e+12, ...,\n",
       "        1.70941027e+12, 1.70941027e+12, 1.70941027e+12]])"
      ]
     },
     "execution_count": 19,
     "metadata": {},
     "output_type": "execute_result"
    }
   ],
   "source": [
    "np.abs(sol)"
   ]
  },
  {
   "cell_type": "code",
   "execution_count": 20,
   "metadata": {},
   "outputs": [
    {
     "data": {
      "text/plain": [
       "(2, 2)"
      ]
     },
     "execution_count": 20,
     "metadata": {},
     "output_type": "execute_result"
    }
   ],
   "source": [
    "b.shape"
   ]
  },
  {
   "cell_type": "markdown",
   "metadata": {},
   "source": [
    "# Teste scorefunksjoner"
   ]
  },
  {
   "cell_type": "code",
   "execution_count": 22,
   "metadata": {},
   "outputs": [],
   "source": [
    "from score import *\n",
    "%autoreload"
   ]
  },
  {
   "cell_type": "code",
   "execution_count": 23,
   "metadata": {},
   "outputs": [],
   "source": [
    "N = 4000\n",
    "g = create_gaussian(N)\n",
    "m = np.mean(g)"
   ]
  },
  {
   "cell_type": "code",
   "execution_count": 24,
   "metadata": {},
   "outputs": [],
   "source": [
    "p = (np.random.randint(0,N-1), np.random.randint(0,N-1))"
   ]
  },
  {
   "cell_type": "code",
   "execution_count": 26,
   "metadata": {},
   "outputs": [
    {
     "ename": "TypeError",
     "evalue": "not enough arguments: expected 3, got 1",
     "output_type": "error",
     "traceback": [
      "\u001b[1;31m---------------------------------------------------------------------------\u001b[0m",
      "\u001b[1;31mTypeError\u001b[0m                                 Traceback (most recent call last)",
      "\u001b[1;32m<timed exec>\u001b[0m in \u001b[0;36m<module>\u001b[1;34m\u001b[0m\n",
      "\u001b[1;31mTypeError\u001b[0m: not enough arguments: expected 3, got 1"
     ]
    },
    {
     "ename": "TypeError",
     "evalue": "not enough arguments: expected 3, got 2",
     "output_type": "error",
     "traceback": [
      "\u001b[1;31m---------------------------------------------------------------------------\u001b[0m",
      "\u001b[1;31mTypeError\u001b[0m                                 Traceback (most recent call last)",
      "\u001b[1;32m<timed exec>\u001b[0m in \u001b[0;36m<module>\u001b[1;34m\u001b[0m\n",
      "\u001b[1;31mTypeError\u001b[0m: not enough arguments: expected 3, got 2"
     ]
    },
    {
     "ename": "NameError",
     "evalue": "name 'ws' is not defined",
     "output_type": "error",
     "traceback": [
      "\u001b[1;31m---------------------------------------------------------------------------\u001b[0m",
      "\u001b[1;31mNameError\u001b[0m                                 Traceback (most recent call last)",
      "\u001b[1;32m<ipython-input-26-c6012c3412e7>\u001b[0m in \u001b[0;36m<module>\u001b[1;34m\u001b[0m\n\u001b[0;32m      1\u001b[0m \u001b[0mget_ipython\u001b[0m\u001b[1;33m(\u001b[0m\u001b[1;33m)\u001b[0m\u001b[1;33m.\u001b[0m\u001b[0mrun_line_magic\u001b[0m\u001b[1;33m(\u001b[0m\u001b[1;34m'time'\u001b[0m\u001b[1;33m,\u001b[0m \u001b[1;34m'ws = basic_score(g)'\u001b[0m\u001b[1;33m)\u001b[0m\u001b[1;33m\u001b[0m\u001b[1;33m\u001b[0m\u001b[0m\n\u001b[0;32m      2\u001b[0m \u001b[0mget_ipython\u001b[0m\u001b[1;33m(\u001b[0m\u001b[1;33m)\u001b[0m\u001b[1;33m.\u001b[0m\u001b[0mrun_line_magic\u001b[0m\u001b[1;33m(\u001b[0m\u001b[1;34m'time'\u001b[0m\u001b[1;33m,\u001b[0m \u001b[1;34m'ss = step_score(g,m)'\u001b[0m\u001b[1;33m)\u001b[0m\u001b[1;33m\u001b[0m\u001b[1;33m\u001b[0m\u001b[0m\n\u001b[1;32m----> 3\u001b[1;33m \u001b[0mws\u001b[0m\u001b[1;33m,\u001b[0m \u001b[0mss\u001b[0m\u001b[1;33m\u001b[0m\u001b[1;33m\u001b[0m\u001b[0m\n\u001b[0m",
      "\u001b[1;31mNameError\u001b[0m: name 'ws' is not defined"
     ]
    }
   ],
   "source": [
    "%time ws = basic_score(g,)\n",
    "%time ss = step_score(g,m)\n",
    "ws, ss"
   ]
  },
  {
   "cell_type": "code",
   "execution_count": null,
   "metadata": {},
   "outputs": [],
   "source": [
    "g.shape"
   ]
  },
  {
   "cell_type": "code",
   "execution_count": null,
   "metadata": {},
   "outputs": [],
   "source": [
    "g[g>m].shape"
   ]
  },
  {
   "cell_type": "code",
   "execution_count": null,
   "metadata": {},
   "outputs": [],
   "source": [
    "plt.imshow(np.where(g>m,g,0))"
   ]
  },
  {
   "cell_type": "code",
   "execution_count": null,
   "metadata": {},
   "outputs": [],
   "source": [
    "#scipy.sparse.linalg.spsolve"
   ]
  },
  {
   "cell_type": "markdown",
   "metadata": {},
   "source": [
    "### Implementer søkefunksjon"
   ]
  },
  {
   "cell_type": "code",
   "execution_count": null,
   "metadata": {},
   "outputs": [],
   "source": [
    "np.sqrt((9,9)).astype(int)"
   ]
  },
  {
   "cell_type": "code",
   "execution_count": null,
   "metadata": {},
   "outputs": [],
   "source": [
    "def create_b(x,dims):\n",
    "    b=np.zeros(dims[0])\n",
    "    b[int(x)] = 1\n",
    "    return b\n",
    "def find_optimal_placement(A):\n",
    "    N = A.shape[0]\n",
    "#     print(N)\n",
    "    init_position = np.random.randint(0,N)\n",
    "    print(\"init position:\\t\",init_position)\n",
    "    optimal = scipy.optimize.minimize(score_func, init_position, args=(A))\n",
    "    return optimal\n",
    "\n",
    "def score_func(x0, *A):\n",
    "#     print(\"x0:\\t\",x0)\n",
    "    b = create_b(x0, dims = A[0].shape) # En funksjon som lager b-vektoren\n",
    "#     print(\"b:\\t\",b)\n",
    "    x = scipy.sparse.linalg.spsolve(A[0], b).reshape(np.sqrt(A[0].shape).astype(int))\n",
    "#     print(\"x:\\t\",x)\n",
    "    return -1.*basic_score(x)\n"
   ]
  },
  {
   "cell_type": "code",
   "execution_count": null,
   "metadata": {},
   "outputs": [],
   "source": [
    "m = 100\n",
    "p = np.random.randint(0,m**2)\n",
    "A = scipy.sparse.diags([1,1,2,5],offsets=[0,-1,1,3],shape=(m**2,m**2))\n",
    "b = create_b(p,A.shape)"
   ]
  },
  {
   "cell_type": "markdown",
   "metadata": {},
   "source": [
    "## test solve parallell\n",
    "---"
   ]
  },
  {
   "cell_type": "code",
   "execution_count": null,
   "metadata": {},
   "outputs": [],
   "source": [
    "from wifi_matrix import *\n",
    "from score import *"
   ]
  },
  {
   "cell_type": "code",
   "execution_count": null,
   "metadata": {},
   "outputs": [],
   "source": [
    "# Constants\n",
    "wavelength = 0.06     # Wavelength of WiFi in meters: 0.12 for 2.5GHz; 0.06 for 5GHz.\n",
    "k = 2*np.pi/wavelength\n",
    "n_air = 1\n",
    "n_concrete = 2.16 - 0.021j     # Should depend on wavenumber.\n",
    "\n",
    "# Image and grid\n",
    "img = parse_image('plan-1k.png', n_air, n_concrete)\n",
    "print(\"Image size: \", np.shape(img))\n",
    "#L = 10\n",
    "nx, ny = np.shape(img)\n",
    "dx = 0.01\n",
    "dy = dx\n",
    "print(\"Each pixel is \", round(dx*100, 2), \"cm, or \", round(100*dx/wavelength,2), \"% of the wavelength.\", sep = \"\")\n",
    "\n",
    "# Generate matrix A and the LU decomposition. It is unique for a given floorplan, stepsize, and frequency.\n",
    "tic = time.time()\n",
    "A = generate_A(img, k, dx, dy)\n",
    "LU = scipy.sparse.linalg.splu(A)\n",
    "toc = time.time()\n",
    "print(\"A and LU decomposition time: \", round(toc - tic, 3))\n"
   ]
  },
  {
   "cell_type": "code",
   "execution_count": null,
   "metadata": {},
   "outputs": [],
   "source": [
    "\n",
    "# Coordinates for placement of WiFi source. These are passed to the solver.\n",
    "x_coord = np.linspace(50,ny-50, 30, dtype=int)#\n",
    "y_coord = np.linspace(50,nx-50, 30, dtype=int)\n",
    "\n",
    "# Solve the system\n",
    "tic = time.time()\n",
    "sol = solve_system(LU, x_coord, y_coord, img)\n",
    "toc = time.time()\n",
    "print(\"Solve time: \", round(toc-tic, 3))\n",
    "print(\"Time per position: \", round((toc-tic)/9, 3))\n",
    "\n",
    "\n",
    "# for i in range(np.size(sol, 1)):\n",
    "#     plot_solution(sol[:,i],img, nx, ny, n_concrete)\n",
    "# plt.show()"
   ]
  },
  {
   "cell_type": "code",
   "execution_count": null,
   "metadata": {},
   "outputs": [],
   "source": [
    "(toc-tic)/900"
   ]
  },
  {
   "cell_type": "code",
   "execution_count": null,
   "metadata": {},
   "outputs": [],
   "source": [
    "import sys"
   ]
  },
  {
   "cell_type": "code",
   "execution_count": null,
   "metadata": {},
   "outputs": [],
   "source": [
    "len([(i,j) for i in x_coord for j in y_coord])"
   ]
  },
  {
   "cell_type": "code",
   "execution_count": null,
   "metadata": {},
   "outputs": [],
   "source": [
    "%autoreload 2"
   ]
  },
  {
   "cell_type": "code",
   "execution_count": null,
   "metadata": {},
   "outputs": [],
   "source": [
    "%%time\n",
    "from dask import delayed, compute\n",
    "\n",
    "nxx = len(x_coord)\n",
    "nyy = len(y_coord)\n",
    "b_score2 = [] \n",
    "\n",
    "for i in range(nxx):\n",
    "    for j in range(nyy):\n",
    "        idx = i*nyy + j\n",
    "        #print(idx)\n",
    "        score = delayed(basic_score(sol[:,idx], img, n_concrete))\n",
    "        b_score2.append(score)\n",
    "resu = compute(b_score2)"
   ]
  },
  {
   "cell_type": "code",
   "execution_count": null,
   "metadata": {},
   "outputs": [],
   "source": [
    "len(resu[0])"
   ]
  },
  {
   "cell_type": "code",
   "execution_count": null,
   "metadata": {},
   "outputs": [],
   "source": [
    "%%time\n",
    "\n",
    "nxx = len(x_coord)\n",
    "nyy = len(y_coord)\n",
    "b_score = np.zeros((nxx, nyy)) \n",
    "\n",
    "for i in range(nxx):\n",
    "    for j in range(nyy):\n",
    "        idx = i*nyy + j\n",
    "        print(idx)\n",
    "        score = basic_score(sol[:,idx], img, n_concrete)\n",
    "        b_score[i,j] = score\n",
    "b_score"
   ]
  },
  {
   "cell_type": "code",
   "execution_count": null,
   "metadata": {},
   "outputs": [],
   "source": [
    "np.unravel_index(np.argmax(b_score), (b_score.shape))"
   ]
  },
  {
   "cell_type": "code",
   "execution_count": null,
   "metadata": {},
   "outputs": [],
   "source": [
    "x_coord[29], y_coord[29]"
   ]
  },
  {
   "cell_type": "code",
   "execution_count": null,
   "metadata": {},
   "outputs": [],
   "source": [
    "plot_solution(sol[:,880], img, n_concrete)"
   ]
  },
  {
   "cell_type": "code",
   "execution_count": null,
   "metadata": {},
   "outputs": [],
   "source": [
    "plt.imshow(b_score.T)\n",
    "plt.colorbar()"
   ]
  },
  {
   "cell_type": "code",
   "execution_count": null,
   "metadata": {},
   "outputs": [],
   "source": [
    "b_score[2,1]\n",
    "x_coord[2], y_coord[1]"
   ]
  },
  {
   "cell_type": "code",
   "execution_count": null,
   "metadata": {},
   "outputs": [],
   "source": [
    "for i, t in enumerate([(i,j) for i in x_coord for j in y_coord]):\n",
    "    print(i,t)"
   ]
  },
  {
   "cell_type": "code",
   "execution_count": null,
   "metadata": {},
   "outputs": [],
   "source": [
    "plt.plot(b_score)"
   ]
  }
 ],
 "metadata": {
  "kernelspec": {
   "display_name": "Python 3",
   "language": "python",
   "name": "python3"
  },
  "language_info": {
   "codemirror_mode": {
    "name": "ipython",
    "version": 3
   },
   "file_extension": ".py",
   "mimetype": "text/x-python",
   "name": "python",
   "nbconvert_exporter": "python",
   "pygments_lexer": "ipython3",
   "version": "3.7.6"
  }
 },
 "nbformat": 4,
 "nbformat_minor": 4
}
