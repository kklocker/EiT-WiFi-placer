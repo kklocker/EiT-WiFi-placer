{
 "cells": [
  {
   "cell_type": "code",
   "execution_count": 9,
   "metadata": {},
   "outputs": [],
   "source": [
    "%matplotlib inline"
   ]
  },
  {
   "cell_type": "code",
   "execution_count": 63,
   "metadata": {},
   "outputs": [],
   "source": [
    "import matplotlib.pyplot as plt\n",
    "import time\n",
    "import random\n",
    "from math import sinh\n",
    "from numpy import pi\n",
    "BUILDING_X = BUILDING_Y = 200\n",
    "WALL_THICKNESS = 5\n",
    "ORIENTATION_X = 'x'\n",
    "ORIENTATION_Y = 'y'\n",
    "\n",
    "def make_wall(building, wall = WALL_THICKNESS):\n",
    "    print()\n",
    "\n",
    "class Building:\n",
    "    def __init__(self, size = [BUILDING_X, BUILDING_Y], wall = WALL_THICKNESS):\n",
    "        bld = [ [0 for i in range(size[0])] for j in range(size[1]) ]\n",
    "\n",
    "        for i in range(size[0]):\n",
    "            for j in range(size[1]):\n",
    "                if i < wall or j < wall or i > size[0] - wall or j > size[1] - wall:\n",
    "                    bld[i][j] = 1\n",
    "                else:\n",
    "                    bld[i][j] = 0\n",
    "                    \n",
    "        self.bld = bld\n",
    "        self.size = size\n",
    "        self.wall = wall\n",
    "        self.color = 1\n",
    "        \n",
    "    def make_wall(self):\n",
    "        point = [None, None]\n",
    "        point[0] = random.randrange(self.wall, self.size[0] - self.wall, 2*self.wall)\n",
    "        point[1] = random.randrange(self.wall, self.size[1] - self.wall, 2*self.wall)\n",
    "        print(point)\n",
    "        self.color = 1\n",
    "        # +x\n",
    "        for i in range(point[0], self.size[0]):\n",
    "            if self.bld[i][point[1]] != 0:\n",
    "                break\n",
    "            for j in range(point[1], point[1] + self.wall):\n",
    "                self.bld[i][j] = self.color\n",
    "        # -x\n",
    "        for i in range(point[0] - 1, self.wall - 1, -1):\n",
    "            if self.bld[i][point[1]] != 0:\n",
    "                break\n",
    "            for j in range(point[1], point[1] + self.wall):\n",
    "                self.bld[i][j] = self.color\n",
    "        # +y\n",
    "        for j in range(point[1]+self.wall, self.size[1]):\n",
    "            if self.bld[point[0]][j] != 0:\n",
    "                break\n",
    "            for i in range(point[0], point[0] + self.wall):\n",
    "                self.bld[i][j] = self.color\n",
    "        # -y\n",
    "        for j in range(point[1] - 1, self.wall - 1, -1):\n",
    "            if self.bld[point[0]][j] != 0:\n",
    "                break\n",
    "            for i in range(point[0], point[0] + self.wall):\n",
    "                self.bld[i][j] = self.color       \n",
    "        \n",
    "            "
   ]
  },
  {
   "cell_type": "code",
   "execution_count": 70,
   "metadata": {},
   "outputs": [
    {
     "name": "stdout",
     "output_type": "stream",
     "text": [
      "[15, 45]\n",
      "[185, 95]\n",
      "[175, 85]\n",
      "[185, 155]\n",
      "[165, 65]\n",
      "[95, 15]\n",
      "[75, 95]\n",
      "[175, 115]\n",
      "[95, 165]\n"
     ]
    },
    {
     "data": {
      "image/png": "[encoded data removed]",
      "text/plain": [
       "<Figure size 288x288 with 2 Axes>"
      ]
     },
     "metadata": {},
     "output_type": "display_data"
    }
   ],
   "source": [
    "random.seed()\n",
    "my_bld = Building()\n",
    "for i in range(9):\n",
    "    my_bld.make_wall()\n",
    "plt.matshow(my_bld.bld)\n",
    "plt.colorbar()\n",
    "plt.show()"
   ]
  },
  {
   "cell_type": "code",
   "execution_count": 1,
   "metadata": {},
   "outputs": [
    {
     "ename": "NameError",
     "evalue": "name 'xxx' is not defined",
     "output_type": "error",
     "traceback": [
      "\u001b[0;31m---------------------------------------------------------------------------\u001b[0m",
      "\u001b[0;31mNameError\u001b[0m                                 Traceback (most recent call last)",
      "\u001b[0;32m<ipython-input-1-9a69765cf985>\u001b[0m in \u001b[0;36m<module>\u001b[0;34m()\u001b[0m\n\u001b[1;32m     33\u001b[0m     \u001b[0;32massert\u001b[0m \u001b[0;34m(\u001b[0m\u001b[0;34m(\u001b[0m\u001b[0ma\u001b[0m \u001b[0;34m==\u001b[0m \u001b[0mb\u001b[0m\u001b[0;34m)\u001b[0m\u001b[0;34m.\u001b[0m\u001b[0mall\u001b[0m\u001b[0;34m(\u001b[0m\u001b[0;34m)\u001b[0m\u001b[0;34m)\u001b[0m\u001b[0;34m,\u001b[0m \u001b[0;34m\"FAIL: parse_image does not producce the same result as original\"\u001b[0m\u001b[0;34m\u001b[0m\u001b[0;34m\u001b[0m\u001b[0m\n\u001b[1;32m     34\u001b[0m \u001b[0;34m\u001b[0m\u001b[0m\n\u001b[0;32m---> 35\u001b[0;31m \u001b[0mtest_parse_image\u001b[0m\u001b[0;34m(\u001b[0m\u001b[0;34m)\u001b[0m\u001b[0;34m\u001b[0m\u001b[0;34m\u001b[0m\u001b[0m\n\u001b[0m",
      "\u001b[0;32m<ipython-input-1-9a69765cf985>\u001b[0m in \u001b[0;36mtest_parse_image\u001b[0;34m()\u001b[0m\n\u001b[1;32m     30\u001b[0m     \u001b[0mfilename\u001b[0m \u001b[0;34m=\u001b[0m \u001b[0;34m\"plan-1k.png\"\u001b[0m\u001b[0;34m\u001b[0m\u001b[0;34m\u001b[0m\u001b[0m\n\u001b[1;32m     31\u001b[0m     \u001b[0ma\u001b[0m \u001b[0;34m=\u001b[0m \u001b[0mparse_image_test\u001b[0m\u001b[0;34m(\u001b[0m\u001b[0mfilename\u001b[0m\u001b[0;34m)\u001b[0m\u001b[0;34m\u001b[0m\u001b[0;34m\u001b[0m\u001b[0m\n\u001b[0;32m---> 32\u001b[0;31m     \u001b[0mb\u001b[0m \u001b[0;34m=\u001b[0m \u001b[0mparse_image\u001b[0m\u001b[0;34m(\u001b[0m\u001b[0mfilename\u001b[0m\u001b[0;34m)\u001b[0m\u001b[0;34m\u001b[0m\u001b[0;34m\u001b[0m\u001b[0m\n\u001b[0m\u001b[1;32m     33\u001b[0m     \u001b[0;32massert\u001b[0m \u001b[0;34m(\u001b[0m\u001b[0;34m(\u001b[0m\u001b[0ma\u001b[0m \u001b[0;34m==\u001b[0m \u001b[0mb\u001b[0m\u001b[0;34m)\u001b[0m\u001b[0;34m.\u001b[0m\u001b[0mall\u001b[0m\u001b[0;34m(\u001b[0m\u001b[0;34m)\u001b[0m\u001b[0;34m)\u001b[0m\u001b[0;34m,\u001b[0m \u001b[0;34m\"FAIL: parse_image does not producce the same result as original\"\u001b[0m\u001b[0;34m\u001b[0m\u001b[0;34m\u001b[0m\u001b[0m\n\u001b[1;32m     34\u001b[0m \u001b[0;34m\u001b[0m\u001b[0m\n",
      "\u001b[0;32m/home/sly/dev/EiT/floorplanConverter.py\u001b[0m in \u001b[0;36mparse_image\u001b[0;34m(filename)\u001b[0m\n\u001b[1;32m     20\u001b[0m     \u001b[0;31m# Create a mask size of read_img that is false\u001b[0m\u001b[0;34m\u001b[0m\u001b[0;34m\u001b[0m\u001b[0;34m\u001b[0m\u001b[0m\n\u001b[1;32m     21\u001b[0m     \u001b[0mall_mask\u001b[0m \u001b[0;34m=\u001b[0m \u001b[0mread_img\u001b[0m \u001b[0;34m!=\u001b[0m \u001b[0mread_img\u001b[0m\u001b[0;34m\u001b[0m\u001b[0;34m\u001b[0m\u001b[0m\n\u001b[0;32m---> 22\u001b[0;31m     \u001b[0;32mfor\u001b[0m \u001b[0mmat\u001b[0m \u001b[0;32min\u001b[0m \u001b[0mxxx\u001b[0m\u001b[0;34m.\u001b[0m\u001b[0mvalues\u001b[0m\u001b[0;34m(\u001b[0m\u001b[0;34m)\u001b[0m\u001b[0;34m:\u001b[0m\u001b[0;34m\u001b[0m\u001b[0;34m\u001b[0m\u001b[0m\n\u001b[0m\u001b[1;32m     23\u001b[0m         \u001b[0mmaterial_mask\u001b[0m \u001b[0;34m=\u001b[0m \u001b[0;34m(\u001b[0m\u001b[0mread_img\u001b[0m \u001b[0;34m>=\u001b[0m \u001b[0mmat\u001b[0m\u001b[0;34m[\u001b[0m\u001b[0;34m\"lower_bound\"\u001b[0m\u001b[0;34m]\u001b[0m\u001b[0;34m)\u001b[0m \u001b[0;34m&\u001b[0m \u001b[0;34m(\u001b[0m\u001b[0mread_img\u001b[0m \u001b[0;34m<\u001b[0m \u001b[0mmat\u001b[0m\u001b[0;34m[\u001b[0m\u001b[0;34m\"higher_bound\"\u001b[0m\u001b[0;34m]\u001b[0m\u001b[0;34m)\u001b[0m\u001b[0;34m\u001b[0m\u001b[0;34m\u001b[0m\u001b[0m\n\u001b[1;32m     24\u001b[0m         \u001b[0;31m# Only convert each element once\u001b[0m\u001b[0;34m\u001b[0m\u001b[0;34m\u001b[0m\u001b[0;34m\u001b[0m\u001b[0m\n",
      "\u001b[0;31mNameError\u001b[0m: name 'xxx' is not defined"
     ]
    }
   ],
   "source": [
    "import numpy as np\n",
    "import matplotlib.image\n",
    "from floorplanConverter import parse_image\n",
    "\n",
    "N_CONSTANTS = {\n",
    "    \"air\": {\n",
    "        \"value\": 1, \"lower_bound\": -1, \"higher_bound\": 0 # Air is the default\n",
    "    },\n",
    "    \"concrete\": {\n",
    "        \"value\": 2.16 - 0.021j, \"lower_bound\": 0, \"higher_bound\": 0.90\n",
    "    }\n",
    "}\n",
    "\n",
    "def parse_image_test(filename):\n",
    "    \"\"\"\n",
    "    Imports a greyscale png image, and determines where the walls are from the greyscale value.\n",
    "    Assuming concrete walls.\n",
    "    \"\"\"\n",
    "    read_img = matplotlib.image.imread(filename)\n",
    "\n",
    "    if len(np.shape(read_img)) > 2:     # In case image is not grayscale.\n",
    "        read_img = read_img[:,:,0]\n",
    "\n",
    "    read_img = read_img.astype(np.complex64)\n",
    "    read_img[read_img >= 0.9] = 1\n",
    "    read_img[read_img < 0.9] = 2.16 - 0.021j\n",
    "    return read_img\n",
    "\n",
    "def test_parse_image():\n",
    "    filename = \"plan-1k.png\"\n",
    "    a = parse_image_test(filename)\n",
    "    b = parse_image(filename)\n",
    "    assert ((a == b).all()), \"FAIL: parse_image does not producce the same result as original\"\n",
    "\n",
    "test_parse_image()"
   ]
  },
  {
   "cell_type": "code",
   "execution_count": null,
   "metadata": {},
   "outputs": [],
   "source": []
  },
  {
   "cell_type": "code",
   "execution_count": null,
   "metadata": {},
   "outputs": [],
   "source": []
  },
  {
   "cell_type": "code",
   "execution_count": null,
   "metadata": {},
   "outputs": [],
   "source": []
  }
 ],
 "metadata": {
  "kernelspec": {
   "display_name": "Python 3",
   "language": "python",
   "name": "python3"
  },
  "language_info": {
   "codemirror_mode": {
    "name": "ipython",
    "version": 3
   },
   "file_extension": ".py",
   "mimetype": "text/x-python",
   "name": "python",
   "nbconvert_exporter": "python",
   "pygments_lexer": "ipython3",
   "version": "3.6.9"
  }
 },
 "nbformat": 4,
 "nbformat_minor": 2
}
