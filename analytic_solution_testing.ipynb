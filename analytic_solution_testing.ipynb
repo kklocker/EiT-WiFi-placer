{
 "cells": [
  {
   "cell_type": "code",
   "execution_count": 141,
   "metadata": {},
   "outputs": [],
   "source": [
    "import numpy as np\n",
    "import matplotlib.pyplot as plt\n",
    "from wifi_matrix import generate_A_higher_order, generate_A\n",
    "import matplotlib.pyplot as plt\n",
    "from scipy.sparse.linalg import splu"
   ]
  },
  {
   "cell_type": "code",
   "execution_count": 142,
   "metadata": {},
   "outputs": [],
   "source": [
    "wavelength = 0.06  # Wavelength of WiFi in meters: 0.12 for 2.5GHz; 0.06 for 5GHz.\n",
    "k = 2 * np.pi / wavelength"
   ]
  },
  {
   "cell_type": "code",
   "execution_count": 169,
   "metadata": {},
   "outputs": [],
   "source": [
    "X = np.linspace(-1, 1, 1000, dtype=np.complex64)\n",
    "x, y = np.meshgrid(X, X)\n",
    "u = (1-np.exp(1-x**2))*(1-np.exp(1-y**2)) # Known solution\n",
    "f = k**2 * u + 2*x*(1-np.exp(1-y**2))*np.exp(1-x**2) + 2*y*(1-np.exp(1-x**2))*np.exp(1-y**2)# Analytic source"
   ]
  },
  {
   "cell_type": "code",
   "execution_count": 170,
   "metadata": {},
   "outputs": [],
   "source": [
    "floor = np.ones_like(f)"
   ]
  },
  {
   "cell_type": "code",
   "execution_count": null,
   "metadata": {},
   "outputs": [],
   "source": [
    "A = generate_A_higher_order(floor,k)\n",
    "B = generate_A(floor, k)\n",
    "lu_A = splu(A)\n",
    "lu_B = splu(B)\n",
    "u_A = lu_A.solve(f.flatten())\n",
    "u_B = lu_B.solve(f.flatten())"
   ]
  },
  {
   "cell_type": "code",
   "execution_count": null,
   "metadata": {},
   "outputs": [],
   "source": [
    "fig = plt.figure(figsize= (10,10),tight_layout=True)\n",
    "ax=plt.subplot(212)\n",
    "plt.imshow(np.abs(u))\n",
    "plt.title(r\"$(1-e^{1-x^2})(1-e^{1-y^2})$\", size= 20)\n",
    "plt.xticks([])\n",
    "plt.yticks([])\n",
    "\n",
    "plt.subplot(221)\n",
    "plt.imshow(np.real(u_A.reshape(f.shape)))\n",
    "plt.title(r\"$\\mathcal{O}(h^4)$\", size= 20)\n",
    "plt.xticks([])\n",
    "plt.yticks([])\n",
    "\n",
    "plt.subplot(222)\n",
    "plt.imshow(np.real(u_B.reshape(f.shape)))\n",
    "plt.title(r\"$\\mathcal{O}(h^2)$\", size= 20)\n",
    "plt.xticks([])\n",
    "plt.yticks([])"
   ]
  },
  {
   "cell_type": "code",
   "execution_count": null,
   "metadata": {},
   "outputs": [],
   "source": [
    "fig = plt.figure(figsize= (20,10),tight_layout=True)\n",
    "\n",
    "plt.subplot(121)\n",
    "plt.imshow(np.abs(u-u_A.reshape(u.shape)))\n",
    "plt.xticks([])\n",
    "plt.yticks([])\n",
    "plt.title(fr\"$\\max |\\bar u - u| = ${np.max(np.abs(u-u_A.reshape(u.shape))):.4f}\", size = 25) \n",
    "# plt.colorbar()\n",
    "print(np.max(np.abs(u-u_A.reshape(u.shape))))\n",
    "\n",
    "plt.subplot(122)\n",
    "plt.imshow(np.abs(u-u_B.reshape(u.shape)))\n",
    "plt.xticks([])\n",
    "plt.yticks([])\n",
    "plt.title(fr\"$\\max |\\bar u - u| = ${np.max(np.abs(u-u_B.reshape(u.shape))):.4f}\", size = 25) \n",
    "# plt.colorbar()\n",
    "print(np.max(np.abs(u-u_B.reshape(u.shape))))"
   ]
  },
  {
   "cell_type": "code",
   "execution_count": 133,
   "metadata": {},
   "outputs": [],
   "source": [
    "# plt.figure(figsize=(20,10),tight_layout=True)\n",
    "\n",
    "# plt.subplot(121)\n",
    "# plt.imshow(np.log(np.abs(B.toarray())).reshape((25,25)), cmap='jet')\n",
    "# plt.colorbar()\n",
    "# plt.title(r\"$\\mathcal{O}(h^2)$\", size= 20)\n",
    "\n",
    "# plt.subplot(122)\n",
    "# plt.imshow(np.log(np.abs(A.toarray())).reshape((25,25)), cmap='jet')\n",
    "# plt.colorbar()\n",
    "# plt.title(r\"$\\mathcal{O}(h^4)$\", size= 20)"
   ]
  }
 ],
 "metadata": {
  "kernelspec": {
   "display_name": "Python 3",
   "language": "python",
   "name": "python3"
  },
  "language_info": {
   "codemirror_mode": {
    "name": "ipython",
    "version": 3
   },
   "file_extension": ".py",
   "mimetype": "text/x-python",
   "name": "python",
   "nbconvert_exporter": "python",
   "pygments_lexer": "ipython3",
   "version": "3.7.6"
  }
 },
 "nbformat": 4,
 "nbformat_minor": 4
}
